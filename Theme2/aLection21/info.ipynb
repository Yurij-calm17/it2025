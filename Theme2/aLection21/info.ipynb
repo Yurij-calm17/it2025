{
 "cells": [
  {
   "cell_type": "markdown",
   "metadata": {},
   "source": [
    "### Тема 2. Заняття 1. Організація зберігання даних в інформаційно-аналітичних системах. Поняття про бази даних. \n",
    "1. Організація зберігання даних в інформаційно-аналітичних системах. \n",
    "2. Поняття про бази даних.\n",
    "Самостійна робота: Інструменти розробки баз даних.\n"
   ]
  }
 ],
 "metadata": {
  "kernelspec": {
   "display_name": "Python 3",
   "language": "python",
   "name": "python3"
  },
  "language_info": {
   "name": "python",
   "version": "3.11.9"
  }
 },
 "nbformat": 4,
 "nbformat_minor": 2
}
